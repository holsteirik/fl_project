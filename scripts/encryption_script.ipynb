{
 "cells": [
  {
   "cell_type": "raw",
   "id": "396a8fb6",
   "metadata": {},
   "source": [
    "# import random\n",
    "from cryptography.fernet import Fernet\n",
    "\n",
    "# Generate a Fernet key for encryption\n",
    "key = Fernet.generate_key()\n",
    "fernet = Fernet(key)h\n",
    "\n",
    "# Create a list to store the mapping of numbers to sequences\n",
    "number_sequence_mapping = {}\n",
    "\n",
    "# Generate random sequences for numbers from 1 to 400\n",
    "for number in range(1, 401):\n",
    "    number_str = str(number).zfill(3)\n",
    "    random_sequence = ''.join(random.choice('ABCDEFGHIJKLMNOPQRSTUVWXYZ') for _ in range(3))\n",
    "    number_sequence_mapping[number_str] = random_sequence\n",
    "\n",
    "# Convert the mapping to a string\n",
    "mapping_string = '\\n'.join([f\"{number}: {sequence}\" for number, sequence in number_sequence_mapping.items()])\n",
    "\n",
    "# Encrypt the mapping string\n",
    "encrypted_mapping = fernet.encrypt(mapping_string.encode())\n",
    "\n",
    "# Save the encrypted data to a file named 'fernet_key'\n",
    "with open('fernet_key', 'wb') as file:\n",
    "    file.write(encrypted_mapping)\n",
    "\n",
    "# Save the encryption key to a file named 'encrypted_participants'\n",
    "with open('encrypted_participants.txt', 'w') as key_file:\n",
    "    key_file.write(key.decode())\n",
    "\n",
    "print(\"Mapping encrypted and saved to 'fernet_key'.\")\n",
    "print(\"Encryption key saved to 'encrypted_participants.txt'.\")"
   ]
  },
  {
   "cell_type": "code",
   "execution_count": 13,
   "id": "b1f4fcaf",
   "metadata": {},
   "outputs": [
    {
     "ename": "ValueError",
     "evalue": "Fernet key must be 32 url-safe base64-encoded bytes.",
     "output_type": "error",
     "traceback": [
      "\u001b[1;31m---------------------------------------------------------------------------\u001b[0m",
      "\u001b[1;31mError\u001b[0m                                     Traceback (most recent call last)",
      "\u001b[1;32m~\\anaconda3\\lib\\site-packages\\cryptography\\fernet.py\u001b[0m in \u001b[0;36m__init__\u001b[1;34m(self, key, backend)\u001b[0m\n\u001b[0;32m     32\u001b[0m         \u001b[1;32mtry\u001b[0m\u001b[1;33m:\u001b[0m\u001b[1;33m\u001b[0m\u001b[1;33m\u001b[0m\u001b[0m\n\u001b[1;32m---> 33\u001b[1;33m             \u001b[0mkey\u001b[0m \u001b[1;33m=\u001b[0m \u001b[0mbase64\u001b[0m\u001b[1;33m.\u001b[0m\u001b[0murlsafe_b64decode\u001b[0m\u001b[1;33m(\u001b[0m\u001b[0mkey\u001b[0m\u001b[1;33m)\u001b[0m\u001b[1;33m\u001b[0m\u001b[1;33m\u001b[0m\u001b[0m\n\u001b[0m\u001b[0;32m     34\u001b[0m         \u001b[1;32mexcept\u001b[0m \u001b[0mbinascii\u001b[0m\u001b[1;33m.\u001b[0m\u001b[0mError\u001b[0m \u001b[1;32mas\u001b[0m \u001b[0mexc\u001b[0m\u001b[1;33m:\u001b[0m\u001b[1;33m\u001b[0m\u001b[1;33m\u001b[0m\u001b[0m\n",
      "\u001b[1;32m~\\anaconda3\\lib\\base64.py\u001b[0m in \u001b[0;36murlsafe_b64decode\u001b[1;34m(s)\u001b[0m\n\u001b[0;32m    132\u001b[0m     \u001b[0ms\u001b[0m \u001b[1;33m=\u001b[0m \u001b[0ms\u001b[0m\u001b[1;33m.\u001b[0m\u001b[0mtranslate\u001b[0m\u001b[1;33m(\u001b[0m\u001b[0m_urlsafe_decode_translation\u001b[0m\u001b[1;33m)\u001b[0m\u001b[1;33m\u001b[0m\u001b[1;33m\u001b[0m\u001b[0m\n\u001b[1;32m--> 133\u001b[1;33m     \u001b[1;32mreturn\u001b[0m \u001b[0mb64decode\u001b[0m\u001b[1;33m(\u001b[0m\u001b[0ms\u001b[0m\u001b[1;33m)\u001b[0m\u001b[1;33m\u001b[0m\u001b[1;33m\u001b[0m\u001b[0m\n\u001b[0m\u001b[0;32m    134\u001b[0m \u001b[1;33m\u001b[0m\u001b[0m\n",
      "\u001b[1;32m~\\anaconda3\\lib\\base64.py\u001b[0m in \u001b[0;36mb64decode\u001b[1;34m(s, altchars, validate)\u001b[0m\n\u001b[0;32m     86\u001b[0m         \u001b[1;32mraise\u001b[0m \u001b[0mbinascii\u001b[0m\u001b[1;33m.\u001b[0m\u001b[0mError\u001b[0m\u001b[1;33m(\u001b[0m\u001b[1;34m'Non-base64 digit found'\u001b[0m\u001b[1;33m)\u001b[0m\u001b[1;33m\u001b[0m\u001b[1;33m\u001b[0m\u001b[0m\n\u001b[1;32m---> 87\u001b[1;33m     \u001b[1;32mreturn\u001b[0m \u001b[0mbinascii\u001b[0m\u001b[1;33m.\u001b[0m\u001b[0ma2b_base64\u001b[0m\u001b[1;33m(\u001b[0m\u001b[0ms\u001b[0m\u001b[1;33m)\u001b[0m\u001b[1;33m\u001b[0m\u001b[1;33m\u001b[0m\u001b[0m\n\u001b[0m\u001b[0;32m     88\u001b[0m \u001b[1;33m\u001b[0m\u001b[0m\n",
      "\u001b[1;31mError\u001b[0m: Incorrect padding",
      "\nThe above exception was the direct cause of the following exception:\n",
      "\u001b[1;31mValueError\u001b[0m                                Traceback (most recent call last)",
      "\u001b[1;32m~\\AppData\\Local\\Temp\\ipykernel_10508\\1590997294.py\u001b[0m in \u001b[0;36m<module>\u001b[1;34m\u001b[0m\n\u001b[0;32m      9\u001b[0m \u001b[1;33m\u001b[0m\u001b[0m\n\u001b[0;32m     10\u001b[0m \u001b[1;31m# Create a Fernet cipher instance using the provided key\u001b[0m\u001b[1;33m\u001b[0m\u001b[1;33m\u001b[0m\u001b[0m\n\u001b[1;32m---> 11\u001b[1;33m \u001b[0mcipher_suite\u001b[0m \u001b[1;33m=\u001b[0m \u001b[0mFernet\u001b[0m\u001b[1;33m(\u001b[0m\u001b[0mkey\u001b[0m\u001b[1;33m)\u001b[0m\u001b[1;33m\u001b[0m\u001b[1;33m\u001b[0m\u001b[0m\n\u001b[0m\u001b[0;32m     12\u001b[0m \u001b[1;33m\u001b[0m\u001b[0m\n\u001b[0;32m     13\u001b[0m \u001b[1;31m# Read the encrypted participants from the 'encrypted_participants.txt' file\u001b[0m\u001b[1;33m\u001b[0m\u001b[1;33m\u001b[0m\u001b[0m\n",
      "\u001b[1;32m~\\anaconda3\\lib\\site-packages\\cryptography\\fernet.py\u001b[0m in \u001b[0;36m__init__\u001b[1;34m(self, key, backend)\u001b[0m\n\u001b[0;32m     33\u001b[0m             \u001b[0mkey\u001b[0m \u001b[1;33m=\u001b[0m \u001b[0mbase64\u001b[0m\u001b[1;33m.\u001b[0m\u001b[0murlsafe_b64decode\u001b[0m\u001b[1;33m(\u001b[0m\u001b[0mkey\u001b[0m\u001b[1;33m)\u001b[0m\u001b[1;33m\u001b[0m\u001b[1;33m\u001b[0m\u001b[0m\n\u001b[0;32m     34\u001b[0m         \u001b[1;32mexcept\u001b[0m \u001b[0mbinascii\u001b[0m\u001b[1;33m.\u001b[0m\u001b[0mError\u001b[0m \u001b[1;32mas\u001b[0m \u001b[0mexc\u001b[0m\u001b[1;33m:\u001b[0m\u001b[1;33m\u001b[0m\u001b[1;33m\u001b[0m\u001b[0m\n\u001b[1;32m---> 35\u001b[1;33m             raise ValueError(\n\u001b[0m\u001b[0;32m     36\u001b[0m                 \u001b[1;34m\"Fernet key must be 32 url-safe base64-encoded bytes.\"\u001b[0m\u001b[1;33m\u001b[0m\u001b[1;33m\u001b[0m\u001b[0m\n\u001b[0;32m     37\u001b[0m             ) from exc\n",
      "\u001b[1;31mValueError\u001b[0m: Fernet key must be 32 url-safe base64-encoded bytes."
     ]
    }
   ],
   "source": [
    "from cryptography.fernet import Fernet\n",
    "\n",
    "# Manually paste the Fernet key as a string here\n",
    "# Replace 'YOUR_PASTED_KEY_HERE' with the actual key\n",
    "key_str = 'xxx'\n",
    "\n",
    "# Convert the key string to bytes\n",
    "key = key_str.encode()\n",
    "\n",
    "# Create a Fernet cipher instance using the provided key\n",
    "cipher_suite = Fernet(key)\n",
    "\n",
    "# Read the encrypted participants from the 'encrypted_participants.txt' file\n",
    "encrypted_participants = []\n",
    "\n",
    "with open(\"encrypted_participants.txt\", \"r\") as file:\n",
    "    for line in file:\n",
    "        encrypted_participants.append(line.strip())\n",
    "\n",
    "# Decrypt and print the participants\n",
    "decrypted_participants = []\n",
    "\n",
    "for encrypted_participant in encrypted_participants:\n",
    "    decrypted_participant = cipher_suite.decrypt(encrypted_participant.encode()).decode()\n",
    "    decrypted_participants.append(decrypted_participant)\n",
    "\n",
    "# Print the decrypted participants\n",
    "for decrypted_participant in decrypted_participants:\n",
    "    print(decrypted_participant)"
   ]
  }
 ],
 "metadata": {
  "kernelspec": {
   "display_name": "Python 3 (ipykernel)",
   "language": "python",
   "name": "python3"
  },
  "language_info": {
   "codemirror_mode": {
    "name": "ipython",
    "version": 3
   },
   "file_extension": ".py",
   "mimetype": "text/x-python",
   "name": "python",
   "nbconvert_exporter": "python",
   "pygments_lexer": "ipython3",
   "version": "3.9.7"
  }
 },
 "nbformat": 4,
 "nbformat_minor": 5
}
