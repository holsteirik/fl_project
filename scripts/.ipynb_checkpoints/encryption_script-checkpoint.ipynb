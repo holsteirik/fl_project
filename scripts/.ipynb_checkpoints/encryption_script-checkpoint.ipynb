{
 "cells": [
  {
   "cell_type": "raw",
   "id": "396a8fb6",
   "metadata": {},
   "source": [
    "# import random\n",
    "from cryptography.fernet import Fernet\n",
    "\n",
    "# Generate a Fernet key for encryption\n",
    "key = Fernet.generate_key()\n",
    "fernet = Fernet(key)h\n",
    "\n",
    "# Create a list to store the mapping of numbers to sequences\n",
    "number_sequence_mapping = {}\n",
    "\n",
    "# Generate random sequences for numbers from 1 to 400\n",
    "for number in range(1, 401):\n",
    "    number_str = str(number).zfill(3)\n",
    "    random_sequence = ''.join(random.choice('ABCDEFGHIJKLMNOPQRSTUVWXYZ') for _ in range(3))\n",
    "    number_sequence_mapping[number_str] = random_sequence\n",
    "\n",
    "# Convert the mapping to a string\n",
    "mapping_string = '\\n'.join([f\"{number}: {sequence}\" for number, sequence in number_sequence_mapping.items()])\n",
    "\n",
    "# Encrypt the mapping string\n",
    "encrypted_mapping = fernet.encrypt(mapping_string.encode())\n",
    "\n",
    "# Save the encrypted data to a file named 'fernet_key'\n",
    "with open('fernet_key', 'wb') as file:\n",
    "    file.write(encrypted_mapping)\n",
    "\n",
    "# Save the encryption key to a file named 'encrypted_participants'\n",
    "with open('encrypted_participants.txt', 'w') as key_file:\n",
    "    key_file.write(key.decode())\n",
    "\n",
    "print(\"Mapping encrypted and saved to 'fernet_key'.\")\n",
    "print(\"Encryption key saved to 'encrypted_participants.txt'.\")"
   ]
  },
  {
   "cell_type": "code",
   "execution_count": null,
   "id": "b1f4fcaf",
   "metadata": {},
   "outputs": [],
   "source": [
    "from cryptography.fernet import Fernet\n",
    "\n",
    "# Manually paste the Fernet key as a string here\n",
    "# Replace 'YOUR_PASTED_KEY_HERE' with the actual key\n",
    "key_str = 'YOUR_PASTED_KEY_HERE'\n",
    "\n",
    "# Convert the key string to bytes\n",
    "key = key_str.encode()\n",
    "\n",
    "# Create a Fernet cipher instance using the provided key\n",
    "cipher_suite = Fernet(key)\n",
    "\n",
    "# Read the encrypted participants from the 'encrypted_participants.txt' file\n",
    "encrypted_participants = []\n",
    "\n",
    "with open(\"encrypted_participants.txt\", \"r\") as file:\n",
    "    for line in file:\n",
    "        encrypted_participants.append(line.strip())\n",
    "\n",
    "# Decrypt and print the participants\n",
    "decrypted_participants = []\n",
    "\n",
    "for encrypted_participant in encrypted_participants:\n",
    "    decrypted_participant = cipher_suite.decrypt(encrypted_participant.encode()).decode()\n",
    "    decrypted_participants.append(decrypted_participant)\n",
    "\n",
    "# Print the decrypted participants\n",
    "for decrypted_participant in decrypted_participants:\n",
    "    print(decrypted_participant)"
   ]
  }
 ],
 "metadata": {
  "kernelspec": {
   "display_name": "Python 3",
   "language": "python",
   "name": "python3"
  },
  "language_info": {
   "codemirror_mode": {
    "name": "ipython",
    "version": 3
   },
   "file_extension": ".py",
   "mimetype": "text/x-python",
   "name": "python",
   "nbconvert_exporter": "python",
   "pygments_lexer": "ipython3",
   "version": "3.8.8"
  }
 },
 "nbformat": 4,
 "nbformat_minor": 5
}
